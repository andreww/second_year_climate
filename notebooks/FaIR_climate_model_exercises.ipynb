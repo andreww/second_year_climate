{
 "cells": [
  {
   "cell_type": "markdown",
   "metadata": {
    "tags": []
   },
   "source": [
    "## **Earth Sciences: 2nd Year Climate Change Course**\n",
    "### **Practical:** Modelling global mean surface temperature\n",
    "\n",
    "### **Overview**\n",
    "\n",
    "In this practical session we will use a simple, global-mean climate model to explore the sensitivity of Earth's climate to variations in greenhouse gases, aerosols and natural forcing (volcanic eruptions). \n",
    "\n",
    "The simple globally-averged climate model is called the `Finite-amplitude Impulse Response` model, or `FaIR` for short. It allows the user to input emissions of greenhouse gases and short lived climate forcers in order to estimate global mean **atmospheric greenhouse gas (GHG) concentrations**, **radiative forcing** and **temperature anomalies**.\n",
    "\n",
    "For more information on FaIR, see the [documentation](https://docs.fairmodel.net/en/latest/).\n",
    "\n",
    "The objective of these exercises is to consolidate your understanding of basic climate change concepts, rather than to learn Python!  Therefore, this notebook contains all the code you will need, and only minor changes to the model inputs will be required to answer the questions below. Note that changes will not be saved in these notebooks, so you will need to keep a separate record of your responses to the questions below (which appear in <span style=\"color:blue\">blue</span>) and of any input parameters you want to remember.\n",
    "\n",
    "<br>\n",
    "\n",
    "***Acknowledgements:** Thanks to Peter Watson and Myles Allen for creating the first iteration of these notebooks, and to the `FaIR` development team for making the model available.*\n"
   ]
  },
  {
   "cell_type": "markdown",
   "metadata": {},
   "source": [
    "</br>\n",
    "</br>\n",
    "\n",
    "# 1. Climate and CO2 concentrations\n",
    "\n",
    "In this section we start by driving the model with atmospheric CO2 concentrations (not thinking about emissions yet!), to understand how global-mean temperature responds to idealized changes in the level of CO2 in the atmosphere. First, we examine the response to an instantaneous step-change in CO2 concentrations, and investigate the concept of the *Equilibrium Climate Sensitivity* (ECS). Then we examine the response of global-mean temperature to a \"ramp-up\" scenario, where we slowly increase the concentration of atmospheric CO2 over time. This motivates the need to consider the *Transient Climate Response* (or TCR).\n",
    "\n",
    "A reminder of the definitions:\n",
    "\n",
    "**Equilibrium Climate Sensitivity (ECS)** - equilibrium warming after CO2 concentrations are doubled and then held constant indefinitely.\n",
    "\n",
    "**Transient Climate Response (TCR)** - warming at the time of CO2 doubling following an exponential rise in CO2 concentrations by 1%/year.\n"
   ]
  },
  {
   "cell_type": "markdown",
   "metadata": {
    "tags": []
   },
   "source": [
    "### **Basic Imports**\n",
    "\n",
    "- **Numpy** is a library built on top of C which allows you to perform rapid numerical calculations in Python and generate/manipulate arrays and matrices in a similar way to in MATLAB. <br>\n",
    "\n",
    "\n",
    "- **Matplotlib** is the canonical plotting package in Python; as you might have guessed by the name, it's basically an open-source version of MATLAB's plotting functions. <br>\n",
    "    - The '%matplotlib inline' comment just allows normal plotting within the Jupyter notebooks"
   ]
  },
  {
   "cell_type": "code",
   "execution_count": null,
   "metadata": {
    "tags": []
   },
   "outputs": [],
   "source": [
    "%matplotlib inline"
   ]
  },
  {
   "cell_type": "code",
   "execution_count": null,
   "metadata": {
    "tags": []
   },
   "outputs": [],
   "source": [
    "# Basic imports\n",
    "import numpy as np\n",
    "from matplotlib import pyplot as plt\n",
    "from matplotlib.pyplot import cm\n",
    "import fair\n",
    "\n",
    "# Check we're using v1.6.1 \n",
    "print(f\"We're using FaIR version {fair.__version__}\") \n",
    "\n",
    "# The \"engine\" of fair is fair_scm, stored in the fair.forward class\n",
    "from fair.forward import fair_scm"
   ]
  },
  {
   "cell_type": "markdown",
   "metadata": {
    "tags": []
   },
   "source": [
    "### **Model Set Up**\n",
    "\n",
    "##### A. Defining key model parameters:"
   ]
  },
  {
   "cell_type": "code",
   "execution_count": null,
   "metadata": {
    "tags": []
   },
   "outputs": [],
   "source": [
    "# Default model parameters:\n",
    "ECS_def = 2.7     # equilibrium climate sensitivity (K), default = 2.7K\n",
    "TCR_def = 1.6     # transient climate response (K), default = 1.6K\n",
    "tau_s_def = 4.1   # ocean mixed layer response time scale (years), default = 4.1yrs\n",
    "tau_d_def = 239.0 # deep ocean response time scale (years), default = 239.0yrs\n",
    "\n",
    "# Alterable parameters:\n",
    "ECS = 3.5         # equilibrium climate sensitivity (K), default = 2.7K\n",
    "TCR = 1.6         # transient climate response (K), default = 1.6K\n",
    "tau_s = 4.1       # ocean mixed layer response time scale (years), default = 4.1yrs\n",
    "tau_d = 239.0     # deep ocean response time scale (years), default = 239.0yrs"
   ]
  },
  {
   "cell_type": "markdown",
   "metadata": {},
   "source": [
    "##### B. Defining maximum CO2 concentration in ppm and model run time:"
   ]
  },
  {
   "cell_type": "code",
   "execution_count": null,
   "metadata": {
    "tags": []
   },
   "outputs": [],
   "source": [
    "# Define initial and max CO2:\n",
    "CO2_init = 275\n",
    "CO2_max  = 2*275\n",
    "\n",
    "# Define model run length:\n",
    "nyears = 500\n",
    "# Define time axis:\n",
    "years=np.arange(nyears)"
   ]
  },
  {
   "cell_type": "markdown",
   "metadata": {},
   "source": [
    "##### C. Defining example CO2 concentration scenarios:"
   ]
  },
  {
   "cell_type": "code",
   "execution_count": null,
   "metadata": {
    "tags": []
   },
   "outputs": [],
   "source": [
    "\"\"\" Define step-change scenario \"\"\"\n",
    "# Define timeseries of CO2 concentrations:\n",
    "concentrations_step = np.ones(nyears)*CO2_init \n",
    "\n",
    "# After year 50, set CO2 to 'CO2_max':\n",
    "concentrations_step[years>50] = CO2_max \n",
    "\n",
    "\n",
    "\"\"\" Define ramp-up scenario \"\"\"\n",
    "# Define timeseries of CO2 concentrations:\n",
    "concentrations_ramp = CO2_init*np.power(1.01, years)\n",
    "\n",
    "# After year 70, set CO2 to 'CO2_max':\n",
    "concentrations_ramp[years>70] = CO2_max\n",
    "\n",
    "\"\"\" SWITCH: Do you want to plot the step-change scenario (concentrations_step) or the ramp-up scenario (concentrations_ramp)? \"\"\"\n",
    "concentrations = concentrations_step"
   ]
  },
  {
   "cell_type": "markdown",
   "metadata": {},
   "source": [
    "### **Running Our Model**"
   ]
  },
  {
   "cell_type": "code",
   "execution_count": null,
   "metadata": {
    "tags": []
   },
   "outputs": [],
   "source": [
    "\"\"\" Run the simple climate model \"\"\"\n",
    "# Outputs are concentrations (C), forcing (F) and global-mean surface temperature change (T).\n",
    "\n",
    "# Run with default parameters\n",
    "C_def, F_def, T_def = fair_scm(\n",
    "    emissions_driven=False, # Tells the model we're using concentrations rather than emissions\n",
    "    C=concentrations,       # Input concentrations\n",
    "    useMultigas=False,      # Only consider CO2\n",
    "    tcrecs=np.array([TCR_def, ECS_def]),\n",
    "    d=np.array([tau_d_def, tau_s_def]))\n",
    "\n",
    "# Run again with altered parameters \n",
    "C,F,T = fair_scm(\n",
    "    emissions_driven=False, # Tells the model we're using concentrations rather than emissions\n",
    "    C=concentrations,       # Input concentrations\n",
    "    useMultigas=False,      # Only consider CO2\n",
    "    tcrecs=np.array([TCR, ECS]),\n",
    "    d=np.array([tau_d, tau_s]))\n"
   ]
  },
  {
   "cell_type": "markdown",
   "metadata": {},
   "source": [
    "### **Exploring Model Outputs**"
   ]
  },
  {
   "cell_type": "code",
   "execution_count": null,
   "metadata": {
    "tags": []
   },
   "outputs": [],
   "source": [
    "# Key model output statistics:\n",
    "print('T at year 70  = {:.2f}'.format(T[70]))\n",
    "print('Final T       = {:.2f}'.format(T[-1]))\n",
    "print('Forcing       = {:.2f} (W/m2)'.format(F[-1]))"
   ]
  },
  {
   "cell_type": "code",
   "execution_count": null,
   "metadata": {
    "tags": []
   },
   "outputs": [],
   "source": [
    "# -- Figure --\n",
    "# Define figure with 3 subplots side-by-side (in 3 columns).\n",
    "fig,axs = plt.subplots(ncols=3, dpi=150, figsize=(10,3))\n",
    "\n",
    "# Plot the CO2 concentration timeseries for example step-change scenario + default parameters:\n",
    "axs[0].plot(years, C, color='blue', label='altered parameters')\n",
    "axs[0].plot(years, C_def, color='blue', linestyle='--', label='default parameters')\n",
    "axs[0].set_ylabel(\"Concentrations (ppm)\")\n",
    "axs[0].set_xlabel(\"Years\")\n",
    "\n",
    "# Plot the radiative forcing timeseries for example step-change scenario + default parameters:\n",
    "axs[1].plot(years, F, color='orange', label='altered parameters')\n",
    "axs[1].plot(years, F_def, color='orange', linestyle='--', label='default parameters')\n",
    "axs[1].set_ylabel(\"Radiative Forcing (W m$^{-2}$)\")\n",
    "axs[1].set_xlabel(\"Years\")\n",
    "\n",
    "# Plot the global-mean temperature anomaly timeseries for example step-change scenario + default parameters:\n",
    "axs[2].plot(years, T, color='red', label='altered parameters')\n",
    "axs[2].plot(years, T_def, color='red', linestyle='--', label='default parameters')\n",
    "axs[2].set_ylabel(\"Temperature Anomaly (K)\")\n",
    "axs[2].set_xlabel(\"Years\")\n",
    "\n",
    "# Add a legend to the first subplot:\n",
    "axs[0].legend()\n",
    "\n",
    "fig.tight_layout() # Cleans up the labels so they don't overlap"
   ]
  },
  {
   "cell_type": "markdown",
   "metadata": {},
   "source": [
    "### **Scenario 1:** Response of global-mean temperature to a step-change in CO2 concentrations.\n",
    "\n",
    "Make sure the model is set to simulate the step-up scenario (with `concentrations = concentrations_step` at the bottom of block C above). \n",
    "\n",
    " -  <span style=\"color:blue\">Find what warming occurs under different levels of peak CO2 concentration values (CO2_max in block B). </span>\n",
    "    \n",
    "For guidance on a sensible range to explore, note that current levels are approximately 420ppm, and concentrations reach about 1200ppm at the end of the 21st century under \"business as usual\" emissions scenarios."
   ]
  },
  {
   "cell_type": "markdown",
   "metadata": {},
   "source": [
    "- <span style=\"color:blue\"> What is the relationship between CO2 concentrations and long-term warming?</span>\n",
    "\n",
    "Extra brownie points if you can plot this! The following code snippet might be helpful...\n",
    "\n",
    "```python\n",
    "fig,ax = plt.subplots() # Sets up a figure and axis for plotting\n",
    "\n",
    "# Plot a line graph of peak warming vs CO2 concentrations\n",
    "ax.plot(concentrations, peak_warming) \n",
    "```\n",
    "\n",
    "You will have to generate these input arrays yourself by running the model a few times and then putting the outputs into a numpy array.\n",
    "\n",
    "For example:\n",
    "```python\n",
    "concentrations = np.array([300, 400, 500, 600, 700, 1000, 1500, 2000, 4000, ...])\n",
    "\n",
    "# Run the model for each of these, then make an array of peak_warming values\n",
    "peak_warming = np.array([temp1, temp2, temp3, ... etc])\n",
    "```"
   ]
  },
  {
   "cell_type": "code",
   "execution_count": null,
   "metadata": {},
   "outputs": [],
   "source": []
  },
  {
   "cell_type": "markdown",
   "metadata": {},
   "source": [
    "- <span style=\"color:blue\">For a fixed CO2_max, how does the temperature response change when you vary the free parameters in the model?  Try changing the equilibrium climate sensitivity (ECS), transient climate response (TCR), surface ocean response time scale (tau_s) and deep ocean response time scale (tau_d) in block A above? Can you explain the impact these have? What physical phenomena affect these parameters for the real Earth? </span>"
   ]
  },
  {
   "cell_type": "code",
   "execution_count": null,
   "metadata": {},
   "outputs": [],
   "source": []
  },
  {
   "cell_type": "markdown",
   "metadata": {},
   "source": [
    "### **Scenario 2:** Response of global-mean temperature to a ramp-up in CO2 concentrations\n",
    "\n",
    "Now make sure the model is set to simulate the ramp-up scenario (with `concentrations = concentrations_ramp` at the bottom of block C). \n",
    " \n",
    " - <span style=\"color:blue\">Which climate sensitivity parameter (ECS or TCR) has the greatest effect on the long term climate response? Which has the greatest effect on the short term climate response (i.e. at the time of CO2 doubling, after 70 years)?</span>"
   ]
  },
  {
   "cell_type": "code",
   "execution_count": null,
   "metadata": {},
   "outputs": [],
   "source": []
  },
  {
   "cell_type": "markdown",
   "metadata": {
    "tags": []
   },
   "source": [
    "</br>\n",
    "</br>\n",
    "\n",
    "# 2: Impact of aerosols and volcanic eruptions on climate\n",
    "\n",
    "So, now we've got a sense of how the climate system responds to a step-change of CO2 and a steady \"ramp-up\" scenario (not unlike what we are experiencing now!), but in reality there is more to the atmosphere than just CO2 concentrations...\n",
    "\n",
    "Both **human activity and volcanic eruptions** can have a marked **cooling effect** on the climate, by releasing **aerosols** into the atmosphere. Aerosols are tiny particles of dust and pollution that scatter incoming solar radiation, causing a global *dimming effect* which can cool the planet. This constitutes a short-lived, *negative* radiative forcing.\n",
    "\n",
    "In this section we will use the `FaIR` model to investigate how the climate responds to these negative radiative forcing changes, and understand how they counteract some of the short-term impacts of CO2.\n"
   ]
  },
  {
   "cell_type": "markdown",
   "metadata": {},
   "source": [
    "### **Model Set Up**\n",
    "\n",
    "##### A. Defining key model parameters:"
   ]
  },
  {
   "cell_type": "code",
   "execution_count": null,
   "metadata": {
    "tags": []
   },
   "outputs": [],
   "source": [
    "# Default model parameters, allowing curves corresponding to this model to be plotted for comparison - there's \n",
    "# no need to change these unless you want to compare the results using the parameters you set above to a \n",
    "# different model:\n",
    "ECS_def = 2.7     # equilibrium climate sensitivity (K), default=2.7K\n",
    "TCR_def = 1.6     # transient climate response (K), default=1.6K\n",
    "tau_s_def = 4.1   # ocean mixed layer response time scale (years), default=4.1yrs\n",
    "tau_d_def = 239.0 # deep ocean response time scale (years), default=239.0yrs\n",
    "\n",
    "# Alterable parameters:\n",
    "ECS = 3.5         # equilibrium climate sensitivity (K), default=2.7K\n",
    "TCR = 1.6         # transient climate response (K), default=1.6K\n",
    "tau_s = 4.1       # ocean mixed layer response time scale (years), default=4.1yrs\n",
    "tau_d = 239.0     # deep ocean response time scale (years), default=239.0yrs\n",
    "\n",
    "\n",
    "# Define run length:\n",
    "nyears = 300\n",
    "\n",
    "# Define time axis:\n",
    "years=np.arange(nyears)"
   ]
  },
  {
   "cell_type": "markdown",
   "metadata": {},
   "source": [
    "##### B. Defining forcing time-series"
   ]
  },
  {
   "cell_type": "code",
   "execution_count": null,
   "metadata": {
    "tags": []
   },
   "outputs": [],
   "source": [
    "# Defining negative forcing time-series:\n",
    "forcing = np.zeros(nyears)\n",
    "\n",
    "# From year 5, define forcing equal to a constant (fval), negative value for 10 years (duration):)\n",
    "fval = -1\n",
    "duration = 10\n",
    "forcing[np.where(np.logical_and(years > 5, years < 5 + duration + 1))] = fval"
   ]
  },
  {
   "cell_type": "markdown",
   "metadata": {},
   "source": [
    "### **Run Our Model**"
   ]
  },
  {
   "cell_type": "code",
   "execution_count": null,
   "metadata": {
    "tags": []
   },
   "outputs": [],
   "source": [
    "# Outputs are concentrations (C), forcing (F) and temperature change (T)\n",
    "\n",
    "# Run with default parameters\n",
    "_,F_def,T_def = fair_scm(\n",
    "    emissions=False,                     # Just drive the model using radiative forcing\n",
    "    other_rf = forcing,                  # Input time-series of radiative forcing\n",
    "    useMultigas=False,                   \n",
    "    tcrecs=np.array([TCR_def, ECS_def]),\n",
    "    d=np.array([tau_d_def, tau_s_def]))\n",
    "\n",
    "# Run again with altered parameters \n",
    "_,F,T = fair_scm(\n",
    "    emissions=False,                      # Just drive the model using radiative forcing\n",
    "    other_rf = forcing,                   # Input time-series of radiative forcing\n",
    "    useMultigas=False,                   \n",
    "    tcrecs=np.array([TCR, ECS]),\n",
    "    d=np.array([tau_d, tau_s]))"
   ]
  },
  {
   "cell_type": "markdown",
   "metadata": {},
   "source": [
    "### **Explore Model Outputs**"
   ]
  },
  {
   "cell_type": "code",
   "execution_count": null,
   "metadata": {
    "tags": []
   },
   "outputs": [],
   "source": [
    "# Key model output statistics:\n",
    "print('Lowest T = {:.2f} (K)'.format(np.min(T)))\n",
    "print(r'Ratio of T to forcing = {:.2f}'.format(np.min(T)/fval))\n"
   ]
  },
  {
   "cell_type": "code",
   "execution_count": null,
   "metadata": {
    "tags": []
   },
   "outputs": [],
   "source": [
    "# -- Figure --\n",
    "fig,axs = plt.subplots(ncols=2, dpi=150, figsize=(8,3))\n",
    "\n",
    "# Plot radiative forcing timeseries:\n",
    "axs[0].plot(years, F, color='orange')\n",
    "axs[0].set_ylabel(\"Radiative Forcing (W m$^{-2}$)\")\n",
    "axs[0].set_xlabel(\"Years\")\n",
    "\n",
    "# Plot temperature anomaly timeseries with default & altered parameters:\n",
    "axs[1].plot(years, T, color='red', label='altered parameters')\n",
    "axs[1].plot(years, T_def, color='red', linestyle='--', label='default parameters')\n",
    "axs[1].set_ylabel(\"Temperature Anomaly (K)\")\n",
    "axs[1].set_xlabel(\"Years\")\n",
    "\n",
    "axs[1].legend()\n",
    "\n",
    "fig.tight_layout() # Cleans up the labels so they don't overlap"
   ]
  },
  {
   "cell_type": "markdown",
   "metadata": {},
   "source": [
    "### A few things to try...\n",
    "\n",
    " - <span style=\"color:blue\">Vary the strength (`fval`) of the radiative forcing perturbation in block B above: what do you notice about the relationship between the radiative forcing and the temperature response? How is this different from the response to greenhouse gases? Now try varying the `duration` of the radiative forcing perturbation.</span> \n",
    "\n",
    "- <span style=\"color:blue\">What happens to the temperature response if you change the equilibrium climate sensitivity (ECS), transient climate response (TCR), the ocean mixed layer response time scale and the deep ocean response time scale? In the GHG-dominated case, all of these parameters mattered, what about now? (Change these in block A under Section 2 this time)</span>\n",
    " \n",
    ".\n"
   ]
  },
  {
   "cell_type": "code",
   "execution_count": null,
   "metadata": {},
   "outputs": [],
   "source": []
  },
  {
   "cell_type": "markdown",
   "metadata": {
    "tags": []
   },
   "source": [
    "</br>\n",
    "</br>\n",
    "\n",
    "# 3: Simulating historical 20th century temperatures\n",
    "\n",
    "\n",
    "We have now investigated the response of global-mean climate change to a step-change in CO$_{2}$ concentrations, a steady \"ramp-up\" in CO$_{2}$ concentrations, and a short-lived negative pulse of radiative forcing. Together these make up the ingredients we need to begin to understand the evolution of global mean surface temperature over the 20th century!\n",
    "\n",
    "In this section we will see that our simple climate model can do a good job at simulating change over the 20th century, and use the model to decompose the temperature changes into contributions from:\n",
    "\n",
    "- Greenhouse gases </br>\n",
    "\n",
    "- Aerosols </br>\n",
    "\n",
    "- Natural variability (Solar cycle, volcanoes etc) </br>"
   ]
  },
  {
   "cell_type": "markdown",
   "metadata": {},
   "source": [
    "### **Installation Notes**\n",
    "\n",
    "**If you are running this notebook on your laptop**, make sure you have the following files in the same directory as this notebook or somewhere in your Python path:\n",
    "\n",
    " - `fair_main_demo.py` - Python code for running the FAIR model.\n",
    " - `RCP85_MIDYEAR_RADFORCING.csv` - Comma-separated-values file giving radiative forcing for the RCP8.5 scenario.\n",
    " - `HadCRUT.4.5.0.0.annual_ns_avg.txt` - Text file giving observed global mean surface temperatures.\n",
    " \n",
    " This will be taken care of automatically if you are running the notebook on the virtual server."
   ]
  },
  {
   "cell_type": "code",
   "execution_count": null,
   "metadata": {
    "tags": []
   },
   "outputs": [],
   "source": [
    "# Basic imports\n",
    "from utils import *"
   ]
  },
  {
   "cell_type": "markdown",
   "metadata": {},
   "source": [
    "</br>\n",
    "\n",
    "### **Observations** - What did the 20th century look like?\n",
    "\n",
    "We have a good handle on how global mean surface temperature has changed during the historical period (20$^{\\mathrm{th}}$ century). You can see a plot of the global-mean, annual-mean temperature anomaly below (relative to the 1861-1880 climatology). The warming is clear to see."
   ]
  },
  {
   "cell_type": "code",
   "execution_count": null,
   "metadata": {
    "tags": []
   },
   "outputs": [],
   "source": [
    "# Read HadCRUT 4.5.0.0 data:\n",
    "Y_obs, T_obs = np.genfromtxt(\"../data/HadCRUT.4.5.0.0.annual_ns_avg.txt\")[:,0], np.genfromtxt(\"../data/HadCRUT.4.5.0.0.annual_ns_avg.txt\")[:,1]\n",
    "# Determine indices of observations between 1861 and 1880:\n",
    "i_obs_clm=(1861<=Y_obs) & (Y_obs<=1880)\n",
    "# Subtract mean of observations between 1861 and 1880 from observations:\n",
    "T_obs= T_obs - np.mean(T_obs[i_obs_clm])"
   ]
  },
  {
   "cell_type": "code",
   "execution_count": null,
   "metadata": {
    "tags": []
   },
   "outputs": [],
   "source": [
    "# -- Figure --\n",
    "fig, ax = plt.subplots(dpi=100)\n",
    "ax.grid(True, linewidth=1, color='0.1', alpha=0.3)\n",
    "# Plot scatter of annual mean temperature anomaly observations:\n",
    "ax.scatter(Y_obs, T_obs, s=10)\n",
    "ax.set_ylabel(\"Temperature anomaly [K]\")\n",
    "ax.set_xlabel(\"Years\")\n",
    "fig.tight_layout() # Cleans up the labels so they don't overlap"
   ]
  },
  {
   "cell_type": "markdown",
   "metadata": {},
   "source": [
    "### **Simulating the 20th century temperature record with `FaIR`**\n",
    "\n",
    "##### A. Defining model parameters:"
   ]
  },
  {
   "cell_type": "code",
   "execution_count": null,
   "metadata": {
    "tags": []
   },
   "outputs": [],
   "source": [
    "# Define key model parameters:\n",
    "ECS_def = 2.7     # equilibrium climate sensitivity (K), default=2.7K   (uncertainty: 1.5-4.5°C)\n",
    "TCR_def = 1.6     # transient climate response (K), default=1.6K        (uncertainty: 1.0–2.5°C)\n",
    "tau_s_def = 4.1   # ocean mixed layer response time scale (years), default=4.1yrs\n",
    "tau_d_def = 239.0 # deep ocean response time scale (years), default=239.0yrs\n",
    "\n",
    "# Define scalings for the anthropogenic GHG and aerosol and natural forcings (defaults=1.0):\n",
    "ghg_scale=1.0 # ±20% uncertainty, IPCC\n",
    "aer_scale=1.0 # ±30% uncertainty, IPCC\n",
    "nat_scale=1.0 # ±50% uncertainty, IPCC"
   ]
  },
  {
   "cell_type": "markdown",
   "metadata": {},
   "source": [
    "##### B. Read historical radiative forcing to 2020:"
   ]
  },
  {
   "cell_type": "code",
   "execution_count": null,
   "metadata": {
    "tags": []
   },
   "outputs": [],
   "source": [
    "# Import RCP8.5 forcing data from .csv:\n",
    "years,F_tot,F_ant,F_ghg,F_co2=load_rcp_forcing('../data/RCP85_MIDYEAR_RADFORCING.csv',Y_max=2020)\n",
    "\n",
    "# Define aerosol forcing as difference between total anthropogenic forcing and that due to greenhouse gases:\n",
    "F_aer= F_ant - F_ghg\n",
    "# Define natural forcing as difference between total forcing and total anthropogenic forcing:\n",
    "F_nat= F_tot - F_ant\n",
    "\n",
    "# Scale the forcings:\n",
    "F_ghg = F_ghg*ghg_scale\n",
    "F_co2 = F_co2*ghg_scale\n",
    "F_aer = F_aer*aer_scale\n",
    "F_nat = F_nat*nat_scale\n",
    "\n",
    "# Determine new total and anthropogenic forcings\n",
    "F_ant = F_ghg + F_aer\n",
    "F_tot = F_ant + F_nat"
   ]
  },
  {
   "cell_type": "markdown",
   "metadata": {},
   "source": [
    "### **Run Our Model**"
   ]
  },
  {
   "cell_type": "code",
   "execution_count": null,
   "metadata": {
    "tags": []
   },
   "outputs": [],
   "source": [
    "# Outputs are concentrations (C), forcing (F) and temperature change (T).\n",
    "\n",
    "# Run the model with total radiative forcing:\n",
    "_,F_tot,T_tot = fair_scm(\n",
    "    emissions=False,                     # Just drive the model using radiative forcing\n",
    "    other_rf = F_tot,                    # Input time-series of radiative forcing\n",
    "    useMultigas=False,                   \n",
    "    tcrecs=np.array([TCR_def, ECS_def]),\n",
    "    d=np.array([tau_d_def, tau_s_def]))\n",
    "\n",
    "# Run the model with anthropogenic radiative forcing:\n",
    "_,F_ant,T_ant = fair_scm(\n",
    "    emissions=False,                     # Just drive the model using radiative forcing\n",
    "    other_rf = F_ant,                    # Input time-series of radiative forcing\n",
    "    useMultigas=False,                   \n",
    "    tcrecs=np.array([TCR_def, ECS_def]),\n",
    "    d=np.array([tau_d_def, tau_s_def]))\n",
    "\n",
    "# Run the model with GHG radiative forcing:\n",
    "_,F_ghg,T_ghg = fair_scm(\n",
    "    emissions=False,                     # Just drive the model using radiative forcing\n",
    "    other_rf = F_ghg,                    # Input time-series of radiative forcing\n",
    "    useMultigas=False,                   \n",
    "    tcrecs=np.array([TCR_def, ECS_def]),\n",
    "    d=np.array([tau_d_def, tau_s_def]))\n",
    "\n",
    "# Run the model with aerosol radiative forcing:\n",
    "_,F_aer,T_aer = fair_scm(\n",
    "    emissions=False,                     # Just drive the model using radiative forcing\n",
    "    other_rf = F_aer,                    # Input time-series of radiative forcing\n",
    "    useMultigas=False,                   \n",
    "    tcrecs=np.array([TCR_def, ECS_def]),\n",
    "    d=np.array([tau_d_def, tau_s_def]))\n",
    "\n",
    "# Remove 1861-80 climatology from all temperature anomalies:\n",
    "i_clm = (1861<=years) & (years<=1880)\n",
    "T_tot = T_tot - np.mean(T_tot[i_clm])\n",
    "T_ant = T_ant - np.mean(T_ant[i_clm])\n",
    "T_ghg = T_ghg - np.mean(T_ghg[i_clm])\n",
    "T_aer = T_aer - np.mean(T_aer[i_clm])"
   ]
  },
  {
   "cell_type": "markdown",
   "metadata": {},
   "source": [
    "### **Explore Model Output**"
   ]
  },
  {
   "cell_type": "code",
   "execution_count": null,
   "metadata": {
    "tags": []
   },
   "outputs": [],
   "source": [
    "# Statistics of model outputs:\n",
    "print(\"Simulated anthropogenic warming in 2015:\", round(T_ant[years==2015][0], 2))\n",
    "\n",
    "# Compute standard deviation of differences of simulated temperature from observations (a measure of the \n",
    "# goodness of fit, with smaller values implying a better fit):\n",
    "T_std = np.std(T_obs[(1861 <= Y_obs) & (Y_obs <= 2016)] - T_tot[(1861 <= years) & (years <= 2016)])\n",
    "print(\"Standard deviation of error of total response (K)\", round(T_std, 3))\n"
   ]
  },
  {
   "cell_type": "code",
   "execution_count": null,
   "metadata": {
    "tags": []
   },
   "outputs": [],
   "source": [
    "# -- Figure --\n",
    "fig, axs = plt.subplots(ncols=2, dpi=100, figsize = (10,4))\n",
    "[ax.grid(True, linewidth=1, color='0.1', alpha=0.3) for ax in axs]\n",
    "\n",
    "# Plot components of radiative forcing:\n",
    "axs[0].axis([1860., 2020., -1.5, 3.5])\n",
    "axs[0].plot(years,F_tot,color='red',linewidth=2)\n",
    "axs[0].plot(years,F_ant,color='orange')\n",
    "axs[0].plot(years,F_ghg,color='magenta')\n",
    "axs[0].plot(years,F_aer,color='blue')\n",
    "axs[0].plot(years,F_nat,color='green')\n",
    "axs[0].set_ylabel(\"Radiative Forcing (W m$^{-2}$)\")\n",
    "axs[0].set_xlabel(\"Year\")\n",
    "\n",
    "# Plot components of temperature change:\n",
    "axs[1].axis([1860., 2020., -0.5, 1.5])\n",
    "axs[1].plot(Y_obs,T_obs,color='black',marker='.',ls='None',label='obs')\n",
    "axs[1].plot(years,T_tot,color='red',label='Total',linewidth=2)\n",
    "axs[1].plot(years,T_ant,color='orange',label='Total anthro.')\n",
    "axs[1].plot(years,T_ghg,color='magenta',label='GHGs')\n",
    "axs[1].plot(years,T_aer,color='blue',label='Aerosols')\n",
    "axs[1].plot(years,T_tot-T_ant,color='green',label='Nat.')\n",
    "axs[1].set_ylabel(\"Temperature Anomaly / Warming ($^\\circ$C)\")\n",
    "axs[1].set_xlabel(\"Year\")\n",
    "axs[1].legend(loc='upper left')\n",
    "\n",
    "fig.tight_layout() # Cleans up the labels so they don't overlap"
   ]
  },
  {
   "cell_type": "markdown",
   "metadata": {
    "tags": []
   },
   "source": [
    "### So what happened over the historical period and why?\n",
    "\n",
    "- <span style=\"color:blue\">Explain the main features of the greenhouse gas, aerosol and natural radiative forcing curves.</span>\n",
    "\n",
    "- <span style=\"color:blue\">Vary the scalings of the greenhouse gas, aerosol and natural radiative forcings in block A under Section 3 above - how does each affect the simulated temperatures?</span>\n",
    "\n",
    "- <span style=\"color:blue\">Vary the ECS and TCR values within the given likely ranges according to the IPCC. How do the anthropogenic and total temperature anomalies vary?</span>"
   ]
  },
  {
   "cell_type": "code",
   "execution_count": null,
   "metadata": {},
   "outputs": [],
   "source": []
  },
  {
   "cell_type": "markdown",
   "metadata": {
    "tags": []
   },
   "source": [
    "### How well do 20th century climate observations constrain our models?\n",
    "\n",
    " - <span style=\"color:blue\">By varying ECS and TCR together, keeping them within the IPCC likely ranges, find the lowest and highest values of each that seem consistent with observed temperatures in this model, assuming that the specified forcings are correct (i.e. with all scalings equal to 1)? </span>\n",
    " \n",
    " - <span style=\"color:blue\">Which of the TCR and ECS seems to be better constrained by the observations of the past? What does this imply about the relative uncertainty in predictions of warming over the next century and in subsequent centuries, if CO2 concentrations were to rise and then stay constant?</span>\n",
    " \n",
    " - <span style=\"color:blue\">Set ECS back to 2.7K. If aerosol forcing is scaled up or down by 30%, how much can the TCR be varied whilst keeping the simulated total warming realistic? How important do you think knowing the aerosol forcing is for constraining future climate change? </span>\n",
    " \n",
    "You might also want to think about why the model simulation does not match the observations exactly for any values of the parameters..."
   ]
  },
  {
   "cell_type": "code",
   "execution_count": null,
   "metadata": {},
   "outputs": [],
   "source": []
  },
  {
   "cell_type": "markdown",
   "metadata": {
    "tags": []
   },
   "source": [
    "</br>\n",
    "</br>\n",
    "\n",
    "# 4. From emissions to concentrations of carbon-dioxide and methane\n",
    "\n",
    "\n",
    "Having so far forced the model with greenhouse gas concentrations in the atmosphere, we now move on to specify greenhouse gas *emissions*. This is clearly more relevant to understanding modern climate change, because we have control over our emissions!\n",
    "\n",
    "In this section we will look at the response of the climate to **pulse injections** of CO2 and methane in our simple model. "
   ]
  },
  {
   "cell_type": "markdown",
   "metadata": {},
   "source": [
    "### **Model Set Up**\n",
    "\n",
    "##### A. Defining model parameter and forcing in terms of emissions:"
   ]
  },
  {
   "cell_type": "code",
   "execution_count": null,
   "metadata": {
    "tags": []
   },
   "outputs": [],
   "source": [
    "# Defining peak emissions rate of CO2 pulse, its duration and the year it starts:\n",
    "# Note current emissions are ~37GtCO2/yr.\n",
    "peak_emissions_C = 37 # units are GtCO2/yr\n",
    "duration_C       = 1 # units are years\n",
    "year_start_C     = 50\n",
    "\n",
    "# Define the same parameters for the methane emissions pulse. \n",
    "# Note current emissions are ~500MtCH4/yr.\n",
    "peak_emissions_M = 500 # units are MtCH4/yr, default 500\n",
    "duration_M       = 1 # units are years, default 10\n",
    "year_start_M     = 50\n",
    "lifetime_M       = 9.3 # Lifetime of CH4, default 9.3 yrs\n",
    "\n",
    "# Define the same parameters for an N2O emissions pulse:\n",
    "# Note current emissions are ~9MtNO2/yr.\n",
    "peak_emissions_N = 0. # units are MtN2O/yr (keep this at zero for default...)\n",
    "duration_N       = 10  # units are years\n",
    "year_start_N     = 50\n",
    "lifetime_N       = 121 # Lifetime of CH4, default 121 yrs\n",
    "\n",
    "# Define key model parameters:\n",
    "ECS   = 2.7   # equilibrium climate sensitivity (K), default=2.7K\n",
    "TCR   = 1.6   # transient climate response (K), default=1.6K\n",
    "tau_s = 4.1   # ocean mixed layer response time scale (years), default=4.1yrs\n",
    "tau_d = 239.0 # deep ocean response time scale (years), default=239.0yrs\n",
    "\n",
    "# Define run length:\n",
    "nyears = 300       \n",
    "# Define time axis \n",
    "years  = np.arange(nyears) "
   ]
  },
  {
   "cell_type": "markdown",
   "metadata": {},
   "source": [
    "##### B. Adjusting background emission of N2O and CH4 to account for varying lifetimes:"
   ]
  },
  {
   "cell_type": "code",
   "execution_count": null,
   "metadata": {
    "tags": []
   },
   "outputs": [],
   "source": [
    "from fair.constants import lifetime\n",
    "from fair.tools import steady\n",
    "\n",
    "# Define steady state natural emissions for CH4 and N2O with appropriate preindustrial concentrations\n",
    "steady_ch4_4yr = steady.emissions(species=\"CH4\", lifetime=lifetime_M, C=722.)\n",
    "steady_n2o     = steady.emissions(species=\"N2O\", lifetime=lifetime_N, C=275.)\n",
    "\n",
    "# Import default lifetimes but override methane and N2O if applicable:\n",
    "lt = lifetime.aslist\n",
    "lt[1] = lifetime_M\n",
    "lt[2] = lifetime_N\n",
    "\n",
    "# Define emissions time-series for CO2, CH4 and N2O (if applicable):\n",
    "# Define CO2 emissions time series.\n",
    "peak_emissions_C=peak_emissions_C*12/44  # convert from emissions of CO2 to emissions of C\n",
    "emiss_C=np.zeros_like(years)\n",
    "emiss_C[year_start_C:year_start_C+duration_C]=peak_emissions_C\n",
    "# Define CH4 emissions time series:\n",
    "emiss_M=np.zeros_like(years)\n",
    "emiss_M[year_start_M:year_start_M+duration_M]=peak_emissions_M\n",
    "# Defin N2O emissions time series:\n",
    "emiss_N=np.zeros_like(years)\n",
    "emiss_N[year_start_N:year_start_N+duration_N]=peak_emissions_N"
   ]
  },
  {
   "cell_type": "markdown",
   "metadata": {},
   "source": [
    "### **Run Our Models**\n",
    "\n",
    "##### 1. `FaIR` with combined CO2, CH4 and NO2 emissions:"
   ]
  },
  {
   "cell_type": "code",
   "execution_count": null,
   "metadata": {
    "tags": []
   },
   "outputs": [],
   "source": [
    "# -- Configuration --\n",
    "# Define combined emissions timeseries in array:\n",
    "emissions = np.zeros((nyears, 40))\n",
    "emissions[:,1] = emiss_C\n",
    "emissions[:,3] = emiss_M\n",
    "emissions[:,4] = emiss_N\n",
    "# Turn off forcing for everything except CO2, CH4 and N2O:\n",
    "scale = np.zeros(13)\n",
    "scale[0] = 1.0 # CO2\n",
    "scale[1] = 1.0 # CH4\n",
    "scale[2] = 1.0 # N2O\n",
    "# Define preindustrial concentrations for CO2, CH4 and N2O:\n",
    "C_pi = np.zeros((31))\n",
    "C_pi[0:3] = [278., 722., 275.]\n",
    "\n",
    "# -- Run the Model --\n",
    "# Run FAIR in default mode\n",
    "C_tot,F_tot,T_tot = fair_scm(emissions, lifetimes=lt, \n",
    "                             natural = np.array([steady_ch4_4yr, steady_n2o]), \n",
    "                             F_volcanic=0., F_solar=0., # Switch off volcanos and solar forcing\n",
    "                             C_pi = C_pi,\n",
    "                             scale=scale, fixPre1850RCP=False)"
   ]
  },
  {
   "cell_type": "markdown",
   "metadata": {},
   "source": [
    "##### 2. Run `FaIR` with CO2, CH4, N2O emission separately:"
   ]
  },
  {
   "cell_type": "code",
   "execution_count": null,
   "metadata": {
    "tags": []
   },
   "outputs": [],
   "source": [
    "# -- CO2 Configuration ---\n",
    "# Define CO2 emissions timeseries in array:\n",
    "emissions = np.zeros((nyears, 40))\n",
    "emissions[:,1] = emiss_C\n",
    "# Turn off forcing for everything except CO2, CH4 and N2O:\n",
    "scale = np.zeros(13)\n",
    "scale[0] = 1.0 # CO2\n",
    "# Define preindustrial concentrations for CO2, CH4 and N2O:\n",
    "C_pi = np.zeros((31))\n",
    "C_pi[0:3] = [278.]\n",
    "\n",
    "# Run FAIR with CO2 specified climate sensitivity parameters:\n",
    "C_co2,F_co2,T_co2 = fair_scm(emissions, lifetimes=lt, \n",
    "                             natural = np.array([0,0]), \n",
    "                             F_volcanic=0., F_solar=0., # Switch off volcanos and solar forcing\n",
    "                             C_pi = C_pi,\n",
    "                             tcrecs=np.array([TCR, ECS]),\n",
    "                             d=np.array([tau_d, tau_s]),\n",
    "                             scale=scale, fixPre1850RCP=False)\n",
    "\n",
    "# Run FAIR with CO2 in default mode:\n",
    "_,_,T_co2_def = fair_scm(emissions, lifetimes=lt, \n",
    "                             natural = np.array([0,0]), \n",
    "                             F_volcanic=0., F_solar=0., # Switch off volcanos and solar forcing\n",
    "                             C_pi = C_pi,\n",
    "                             scale=scale, fixPre1850RCP=False)"
   ]
  },
  {
   "cell_type": "code",
   "execution_count": null,
   "metadata": {
    "tags": []
   },
   "outputs": [],
   "source": [
    "# -- CH4 Configuration ---\n",
    "# Define CH4 emissions timeseries in array:\n",
    "emissions = np.zeros((nyears, 40))\n",
    "emissions[:,3] = emiss_M\n",
    "# Turn off forcing for everything except CO2, CH4 and N2O:\n",
    "scale = np.zeros(13)\n",
    "scale[1] = 1.0 # CH4\n",
    "# Define preindustrial concentrations for CO2, CH4 and N2O:\n",
    "C_pi = np.zeros((31))\n",
    "C_pi[0:3] = [278., 722., 275.]\n",
    "\n",
    "# Run FAIR with CH4 specified climate sensitivity parameters:\n",
    "C_ch4,F_ch4,T_ch4 = fair_scm(emissions, lifetimes=lt, \n",
    "                             natural = np.array([steady_ch4_4yr, steady_n2o]), \n",
    "                             F_volcanic=0., F_solar=0., # Switch off volcanos and solar forcing\n",
    "                             C_pi = C_pi,\n",
    "                             tcrecs=np.array([TCR, ECS]),\n",
    "                             d=np.array([tau_d, tau_s]),\n",
    "                             scale=scale, fixPre1850RCP=False)\n",
    "# Run FAIR with CH4 in default mode:\n",
    "_,_,T_ch4_def = fair_scm(emissions, lifetimes=lt, \n",
    "                             natural = np.array([steady_ch4_4yr, steady_n2o]), \n",
    "                             F_volcanic=0., F_solar=0., # Switch off volcanos and solar forcing\n",
    "                             C_pi = C_pi,\n",
    "                             scale=scale, fixPre1850RCP=False)\n"
   ]
  },
  {
   "cell_type": "code",
   "execution_count": null,
   "metadata": {
    "tags": []
   },
   "outputs": [],
   "source": [
    "# -- N2O Configuration ---\n",
    "# Define N2O emissions timeseries in array:\n",
    "emissions = np.zeros((nyears, 40))\n",
    "emissions[:,4] = emiss_N\n",
    "# Turn off forcing for everything except CO2, CH4 and N2O:\n",
    "scale = np.zeros(13)\n",
    "scale[2] = 1.0 # N20\n",
    "# Define preindustrial concentrations for CO2, CH4 and N2O: \n",
    "C_pi = np.zeros((31))\n",
    "C_pi[0:3] = [278., 722., 275.]\n",
    "\n",
    "# Run FAIR with N2O specified climate sensitivity parameters:\n",
    "C_n2o,F_n2o,T_n2o = fair_scm(emissions, lifetimes=lt, \n",
    "                             natural = np.array([steady_ch4_4yr, steady_n2o]), \n",
    "                             F_volcanic=0., F_solar=0., # Switch off volcanos and solar forcing\n",
    "                             C_pi = C_pi,\n",
    "                             tcrecs=np.array([TCR, ECS]),\n",
    "                             scale=scale, fixPre1850RCP=False)\n",
    "# Run FAIR with N2O in default mode:\n",
    "_,_,T_n2o_def = fair_scm(emissions, lifetimes=lt, \n",
    "                             natural = np.array([steady_ch4_4yr, steady_n2o]), \n",
    "                             F_volcanic=0., F_solar=0., # Switch off volcanos and solar forcing\n",
    "                             C_pi = C_pi,\n",
    "                             scale=scale, fixPre1850RCP=False)\n"
   ]
  },
  {
   "cell_type": "markdown",
   "metadata": {},
   "source": [
    "### **Explore Model Outputs**"
   ]
  },
  {
   "cell_type": "code",
   "execution_count": null,
   "metadata": {
    "tags": []
   },
   "outputs": [],
   "source": [
    "# Statistics of model outputs:\n",
    "# Calculate warming 10yr and 100yr after emissions begin across all gases. \n",
    "# Start by finding the earliest year at which emissions begin.\n",
    "if (not np.all(emiss_M==0.)) and (not np.all(emiss_N==0.)):\n",
    "    em_start_yr=min(year_start_C,year_start_M,year_start_N)\n",
    "elif (not np.all(emiss_M==0.)):\n",
    "    em_start_yr=min(year_start_C,year_start_M)\n",
    "elif (not np.all(emiss_N==0.)):\n",
    "    em_start_yr=min(year_start_C,year_start_N)\n",
    "else:\n",
    "    em_start_yr=year_start_C\n",
    "    \n",
    "print(\"Total Delta T 10yr after emissions start = {:.5f}\".format(T_tot[em_start_yr+10]))\n",
    "print(\"Total Delta T 100yr after emissions start = {:.5f}\".format(T_tot[em_start_yr+100]))\n",
    "if (not np.all(emiss_M==0.)) or (not np.all(emiss_N==0.)):\n",
    "    print(\"Delta T from CO2 10yr after emissions start = {:.5f}\".format(T_co2[em_start_yr+10]))\n",
    "    print(\"Delta T from CO2 100yr after emissions start = {:.5f}\".format(T_co2[em_start_yr+100]))\n",
    "if (not np.all(emiss_M==0.)):\n",
    "    print(\"Delta T from CH4 10yr after emissions start = {:.5f}\".format(T_ch4[em_start_yr+10]))\n",
    "    print(\"Delta T from CH4 100yr after emissions start = {:.5f}\".format(T_ch4[em_start_yr+100]))\n",
    "if (not np.all(emiss_N==0.)):\n",
    "    print(\"Delta T from N2O 10yr after emissions start = {:.5f}\".format(T_n2o[em_start_yr+10]))\n",
    "    print(\"Delta T from N2O 100yr after emissions start = {:.5f}\".format(T_n2o[em_start_yr+100]))\n"
   ]
  },
  {
   "cell_type": "code",
   "execution_count": null,
   "metadata": {
    "tags": []
   },
   "outputs": [],
   "source": [
    "# -- Figure --\n",
    "fig, axs = plt.subplots(dpi=100, ncols=2, nrows=2, figsize=(12,6))\n",
    "[ax.grid(True, linewidth=1, color='0.1', alpha=0.3) for ax in axs.flatten()]\n",
    "\n",
    "# -- Subplot 1: CO2 / CH4 / N2O emissions --\n",
    "# Plot CO2 emissions:\n",
    "axs[0,0].plot(years, emiss_C*(44/12), label='CO$_{2}$')\n",
    "ylabel = \"Emissions (GtCO$_{2}$/yr\"\n",
    "if not np.all(emiss_M==0):\n",
    "    axs[0,0].plot(years, emiss_M/50, label='CH$_{4}$')\n",
    "    ylabel += \"\\n or 50MtCH$_{4}$/yr\"\n",
    "if not np.all(emiss_N==0):\n",
    "    axs[0,0].plot(years, emiss_N/10, label='N$_{2}$O')\n",
    "    ylabel += \"\\n or 10MtN$_{2}$O/yr\"\n",
    "ylabel += \")\"\n",
    "# Configure Axes:\n",
    "axs[0,0].set_ylabel(ylabel)\n",
    "axs[0,0].set_xlabel(\"Years\")\n",
    "axs[0,0].legend()\n",
    "\n",
    "# -- Subplot 2: Cumulative CO2 emissions --\n",
    "# Plot Cumulative CO2 emissions:\n",
    "axs[0,1].plot(years, np.cumsum(emiss_C*44/12))\n",
    "# Configure Axes:\n",
    "axs[0,1].set_ylabel(\"Cumulative CO$_{2}$ emissions (GtCO$_{2}$)\")\n",
    "axs[0,1].set_xlabel(\"Years\")\n",
    "\n",
    "# -- Subplot 3: Change in concentration in atm --\n",
    "# Plot change in CO2 concentration in atm:\n",
    "axs[1,0].plot(years, C_co2[:,0]-C_co2[:,0][0], label='CO$_{2}$')\n",
    "ylabel = \"Change in concentrations\\n(ppm_CO2\"\n",
    "if not np.all(emiss_M==0):\n",
    "    axs[1,0].plot(years, C_ch4[:,1]/50 - (C_ch4[:,1]/50)[0], label='CH$_{4}$')\n",
    "    ylabel += \" or 50ppb_CH4\"\n",
    "if not np.all(emiss_N==0):\n",
    "    axs[1,0].plot(years, C_n2o[:,2]/50 - (C_n2o[:,2]/50)[0], label='N$_{2}$O')\n",
    "    ylabel += \"\\n or 50ppb_N2O\"\n",
    "ylabel += \")\"\n",
    "# Configure Axes:\n",
    "axs[1,0].set_ylabel(ylabel)\n",
    "axs[1,0].set_xlabel(\"Years\")\n",
    "axs[1,0].legend()\n",
    "\n",
    "# -- Subplot 4: Temperature change --\n",
    "# Plot CO2 temperature change:\n",
    "if not np.all(emiss_C==0):\n",
    "    axs[1,1].plot(years, T_co2_def, c='tab:blue',label='CO$_{2}$')\n",
    "if not np.all(emiss_M==0):\n",
    "    axs[1,1].plot(years, T_ch4_def, c='tab:orange',label='CH$_{4}$')\n",
    "if not np.all(emiss_N==0):\n",
    "    axs[1,1].plot(years, T_n2o_def, c='tab:green',label='N$_{2}$O')\n",
    "# Plot total temperature change:\n",
    "axs[1,1].plot(years, T_tot, color='black', label='Combined')\n",
    "# Configure Axes:\n",
    "axs[1,1].set_ylabel(\"Temperature anomaly (K)\")\n",
    "axs[1,1].set_xlabel(\"Years\")\n",
    "axs[1,1].legend()\n",
    "\n",
    "fig.tight_layout()"
   ]
  },
  {
   "cell_type": "markdown",
   "metadata": {},
   "source": [
    "### Scenario 1: Pulse injection of CO2\n",
    "\n",
    "Make sure the pulse duration is set to 1 year in block A of Section 4 above. Set the peak emissions of CH4 and N2O to zero.\n",
    "\n",
    " - <span style=\"color:blue\">Explain the main features of the CO2 concentration and warming curves.</span>\n",
    " \n",
    " - <span style=\"color:blue\">Approximately what fraction of the emitted CO2 remains in the atmosphere after 10, 100 and 250 years? Does this 'airborne fraction' depend on the size of the pulse?</span>\n"
   ]
  },
  {
   "cell_type": "code",
   "execution_count": null,
   "metadata": {},
   "outputs": [],
   "source": []
  },
  {
   "cell_type": "markdown",
   "metadata": {},
   "source": [
    "### Scenario 2: Pulse injection of CH4\n",
    "\n",
    "Set the peak emissions rate of the methane pulse to 500Mt/yr, that of the CO2 pulse to 37GtCO2/yr (the approximate present day anthropogenic emissions rates) and the durations of each to 1 year. \n",
    "\n",
    " - <span style=\"color:blue\">How does the shape of the methane atmospheric concentration time series differ from that for CO2? Why?</span>\n",
    " \n",
    " - <span style=\"color:blue\">How do the shapes of the temperature response curves for CO2 and methane differ and why?</span>\n",
    " \n",
    " - <span style=\"color:blue\">What fraction of CH4 remains in the atmosphere after 10, 100, 250 years? How does this depend on the duration and size of the pulse? What about on the *lifetime* of CH4?</span>\n",
    " \n",
    " - <span style=\"color:blue\">What is the (approximate) relative importance of the effects of CO2 and methane on global mean temperature 10, 25 and 50 years after the emission time?</span>"
   ]
  },
  {
   "cell_type": "code",
   "execution_count": null,
   "metadata": {},
   "outputs": [],
   "source": []
  },
  {
   "cell_type": "markdown",
   "metadata": {},
   "source": [
    "</br>\n",
    "</br>\n",
    "\n",
    "# 5.  Future climate change \n",
    "\n",
    "In this section we simulate global mean temperatures under a high-emission future scenario and two (very) idealised emissions mitigation scenarios. \n",
    "\n",
    "The high-emission scenario used is the RCP8.5 scenario prepared for the IPCC 5th Assessment Report.\n",
    "\n",
    "In the mitigation scenarios, the anthropogenic RCP8.5 CO2 emissions, along with radiative forcing (RF) from other greenhouse gases, is multiplied by a factor that decreases from 1 to 0 at a constant rate between two specified years. \n",
    "\n",
    "Note that scaling the non-CO2  radiative forcing, rather than non-CO2 emissions, is equivalent to the approximation that gases other than CO2 have zero atmospheric lifetime (or that their emissions started to be reduced earlier)."
   ]
  },
  {
   "cell_type": "markdown",
   "metadata": {},
   "source": [
    "### **Model Set Up** \n",
    "\n",
    "##### A. Simulating the response to different emission scenarios:"
   ]
  },
  {
   "cell_type": "code",
   "execution_count": null,
   "metadata": {
    "tags": []
   },
   "outputs": [],
   "source": [
    "def generate_idealized_emissions(year_begin, year_end, baseline_emissions):\n",
    "    \"\"\"\n",
    "    Function to calculate highly-idealized emissions reduction scenarios.\n",
    "    \n",
    "    Assumes that anthropogenic RCP8.5 CO2 emissions and non-CO2 radiative forcing (RF) from other gases\n",
    "    declines linearly from their values at `year_begin` to ZERO at `year_end`.\n",
    "    \"\"\"\n",
    "    idealized_emissions = np.copy(baseline_emissions)\n",
    "    \n",
    "    # What reduction per year is required?\n",
    "    reduction_gradient = idealized_emissions[year_begin-1765, 1:]/(year_end - year_begin)\n",
    "    \n",
    "    for idx,year in enumerate(np.arange(year_begin, year_end)):\n",
    "        \n",
    "        idealized_emissions[year-1765, 1:] = idealized_emissions[year_begin-1765, 1:]-reduction_gradient*idx \n",
    "        \n",
    "    # After year_end, all emissions=0\n",
    "    idealized_emissions[year_end-1765:, 1:] = 0.0\n",
    "    \n",
    "    return idealized_emissions"
   ]
  },
  {
   "cell_type": "markdown",
   "metadata": {},
   "source": [
    "##### B. Defining key model parameters:"
   ]
  },
  {
   "cell_type": "code",
   "execution_count": null,
   "metadata": {
    "tags": []
   },
   "outputs": [],
   "source": [
    "# Define key model parameters:\n",
    "ECS   = 2.7     # equilibrium climate sensitivity (K), default=2.7K, IPCC likely range 1.5-4.5 K\n",
    "TCR   = 1.6     # transient climate response (K), default=1.6K,      IPCC likely range 1.0-2.5 K\n",
    "\n",
    "tau_s = 4.1     # ocean mixed layer response time scale (years), default=4.1yrs\n",
    "tau_d = 239.0   # deep ocean response time scale (years), default=239.0yrs"
   ]
  },
  {
   "cell_type": "markdown",
   "metadata": {},
   "source": [
    "##### C. Defining emission and mitigation pathways:"
   ]
  },
  {
   "cell_type": "code",
   "execution_count": null,
   "metadata": {
    "tags": []
   },
   "outputs": [],
   "source": [
    "# Import RCP8.5, a high-emissions scenario from the IPCC:\n",
    "from fair.RCPs import rcp85\n",
    "\n",
    "# Baseline RCP85 model run\n",
    "C85, F85, T85 = fair_scm(\n",
    "                emissions=rcp85.Emissions.emissions,                  \n",
    "                tcrecs=np.array([TCR, ECS]),\n",
    "                d=np.array([tau_d, tau_s])\n",
    ")\n",
    "\n",
    "_,_, T85_co2 = fair_scm(\n",
    "                emissions=rcp85.Emissions.emissions[:,1],                  \n",
    "                tcrecs=np.array([TCR, ECS]),\n",
    "                d=np.array([tau_d, tau_s]),\n",
    "                useMultigas=False      # Only consider CO2\n",
    "\n",
    ")\n",
    "\n",
    "\n",
    "# Define idealized mitigation pathways:\n",
    "# Scenario 1\n",
    "year_begin_reduce_1 = 2035\n",
    "year_hit_zero_1     = 2070\n",
    "\n",
    "idealized_emissions_1 = generate_idealized_emissions(year_begin_reduce_1, year_hit_zero_1, rcp85.Emissions.emissions)\n",
    "\n",
    "# Scenario 2\n",
    "year_begin_reduce_2 = 2050\n",
    "year_hit_zero_2     = 2145\n",
    "\n",
    "idealized_emissions_2 = generate_idealized_emissions(year_begin_reduce_2, year_hit_zero_2, rcp85.Emissions.emissions)"
   ]
  },
  {
   "cell_type": "markdown",
   "metadata": {},
   "source": [
    "### **Run Our Model**"
   ]
  },
  {
   "cell_type": "code",
   "execution_count": null,
   "metadata": {
    "tags": []
   },
   "outputs": [],
   "source": [
    "# Run the FaIR model for these idealized scenarios:\n",
    "Cscen1, Fscen1, Tscen1 = fair_scm(\n",
    "                emissions=idealized_emissions_1,                  \n",
    "                tcrecs=np.array([TCR, ECS]),\n",
    "                d=np.array([tau_d, tau_s]))\n",
    "\n",
    "_,_, Tscen1_co2 = fair_scm(\n",
    "                emissions=idealized_emissions_1[:,1],                  \n",
    "                tcrecs=np.array([TCR, ECS]),\n",
    "                d=np.array([tau_d, tau_s]),\n",
    "                useMultigas=False) # Only consider CO2\n",
    "\n",
    "Cscen2, Fscen2, Tscen2 = fair_scm(\n",
    "                emissions=idealized_emissions_2,                  \n",
    "                tcrecs=np.array([TCR, ECS]),\n",
    "                d=np.array([tau_d, tau_s]))\n",
    "\n",
    "_,_, Tscen2_co2 = fair_scm(\n",
    "                emissions=idealized_emissions_2[:,1],                  \n",
    "                tcrecs=np.array([TCR, ECS]),\n",
    "                d=np.array([tau_d, tau_s]),\n",
    "                useMultigas=False) # Only consider CO2\n",
    "\n",
    "# Defining RCP8.5 scenario years for plotting:\n",
    "years = rcp85.Emissions.year"
   ]
  },
  {
   "cell_type": "markdown",
   "metadata": {},
   "source": [
    "### **Explore Our Model Output**"
   ]
  },
  {
   "cell_type": "code",
   "execution_count": null,
   "metadata": {
    "tags": []
   },
   "outputs": [],
   "source": [
    "# -- Figure --\n",
    "fig, axs = plt.subplots(nrows=3, ncols=2, figsize=(10, 8), dpi=150)\n",
    "[ax.grid(True, linewidth=1, color='0.1', alpha=0.3) for ax in axs.flatten()]\n",
    "\n",
    "# -- Subplot 1: CO2 emissions --\n",
    "axs[0,0].plot(years[1900-1765:2300-1765], rcp85.Emissions.emissions[:,1][1900-1765:2300-1765], label='RCP8.5')\n",
    "axs[0,0].plot(years[1900-1765:2300-1765], idealized_emissions_1[:,1][1900-1765:2300-1765], label='Scenario 1')\n",
    "axs[0,0].plot(years[1900-1765:2300-1765], idealized_emissions_2[:,1][1900-1765:2300-1765], label='Scenario 2')\n",
    "axs[0,0].set_ylabel(\"CO$_{2}$ emissions (GtC/yr)\")\n",
    "axs[0,0].legend(loc='upper left')\n",
    "axs[0,0].set_xlabel('Years')\n",
    "axs[0,0].set_title(\"CO$_{2}$ emissions\")\n",
    "\n",
    "# -- Subplot 2: Cumulative CO2 emissions --\n",
    "axs[0,1].plot(years[1900-1765:2300-1765], np.cumsum(rcp85.Emissions.emissions[:,1][1900-1765:2300-1765]))\n",
    "axs[0,1].plot(years[1900-1765:2300-1765], np.cumsum(idealized_emissions_1[:,1][1900-1765:2300-1765]))\n",
    "axs[0,1].plot(years[1900-1765:2300-1765], np.cumsum(idealized_emissions_2[:,1][1900-1765:2300-1765]))\n",
    "axs[0,1].set_ylabel(\"Cumulative CO$_{2}$ emissions (GtC)\")\n",
    "axs[0,1].set_xlabel('Years')\n",
    "axs[0,1].set_title(\"Cumulative CO$_{2}$ emissions\")\n",
    "\n",
    "# -- Subplot 3: CO2 concentrations --\n",
    "axs[1,0].plot(years[1900-1765:2300-1765], C85[:,0][1900-1765:2300-1765])\n",
    "axs[1,0].plot(years[1900-1765:2300-1765], Cscen1[:,0][1900-1765:2300-1765])\n",
    "axs[1,0].plot(years[1900-1765:2300-1765], Cscen2[:,0][1900-1765:2300-1765])\n",
    "axs[1,0].set_ylabel(\"CO$_{2}$ concentrations (ppm)\")\n",
    "axs[1,0].set_xlabel('Years')\n",
    "axs[1,0].set_title(\"CO$_{2}$ concentrations\")\n",
    "\n",
    "# -- Subplot 4: Temperature change --\n",
    "axs[1,1].scatter(Y_obs, T_obs, s=2, color='black', label='Observations')\n",
    "axs[1,1].plot(years[1900-1765:2300-1765], T85[1900-1765:2300-1765])\n",
    "axs[1,1].plot(years[1900-1765:2300-1765], Tscen1[1900-1765:2300-1765])\n",
    "axs[1,1].plot(years[1900-1765:2300-1765], Tscen2[1900-1765:2300-1765])\n",
    "\n",
    "axs[1,1].plot(years[1900-1765:2300-1765], T85_co2[1900-1765:2300-1765], color='tab:blue', linestyle='dashed')\n",
    "axs[1,1].plot(years[1900-1765:2300-1765], Tscen1_co2[1900-1765:2300-1765], color='orange', linestyle='dashed')\n",
    "axs[1,1].plot(years[1900-1765:2300-1765], Tscen2_co2[1900-1765:2300-1765], color='green', linestyle='dashed')\n",
    "\n",
    "axs[1,1].set_ylabel(\"Warming (K)\")\n",
    "axs[1,1].set_xlabel('Years')\n",
    "axs[1,1].set_title(\"Warming (Total [solid] vs CO$_{2}$-only [dashed])\")\n",
    "axs[1,1].legend()\n",
    "\n",
    "# -- Subplot 5: Warming vs cumulative emissions --\n",
    "axs[2,0].plot(np.cumsum(rcp85.Emissions.emissions[:,1][1900-1765:2300-1765]), T85[1900-1765:2300-1765])\n",
    "axs[2,0].plot(np.cumsum(idealized_emissions_1[:,1][1900-1765:2300-1765]), Tscen1[1900-1765:2300-1765])\n",
    "axs[2,0].plot(np.cumsum(idealized_emissions_2[:,1][1900-1765:2300-1765]), Tscen2[1900-1765:2300-1765])\n",
    "\n",
    "axs[2,0].plot(np.cumsum(rcp85.Emissions.emissions[:,1][1900-1765:2300-1765]), T85_co2[1900-1765:2300-1765], color='tab:blue', linestyle='dashed')\n",
    "axs[2,0].plot(np.cumsum(idealized_emissions_1[:,1][1900-1765:2300-1765]), Tscen1_co2[1900-1765:2300-1765], color='orange', linestyle='dashed')\n",
    "axs[2,0].plot(np.cumsum(idealized_emissions_2[:,1][1900-1765:2300-1765]), Tscen2_co2[1900-1765:2300-1765], color='green', linestyle='dashed')\n",
    "\n",
    "axs[2,0].set_title(\"Warming (total [solid] and due to CO2 only [dashed])\\nvs Cumulative emissions\")\n",
    "axs[2,0].set_xlabel(\"Cumulative Emissions (GtC)\")\n",
    "axs[2,0].set_ylabel(\"Warming (K)\")\n",
    "axs[2,1].set_axis_off()\n",
    "\n",
    "fig.tight_layout()\n",
    "\n",
    "# Statistics of model outputs:\n",
    "print(f\"With ECS = {ECS} K -> RCP8.5 dT/dCumEm = {round(1000*np.polyfit(np.cumsum(rcp85.Emissions.emissions[:,1][1900-1765:2300-1765]), T85[1900-1765:2300-1765], 1)[0], 2)} K/1000 GtC\")\n"
   ]
  },
  {
   "cell_type": "markdown",
   "metadata": {},
   "source": [
    "</br>\n",
    "\n",
    "### The impact of mitigation strategies\n",
    "\n",
    "- <span style=\"color:blue\">For each of the given future scenarios, can you explain the shapes of the different curves shown?</span>\n",
    "    \n",
    "- <span style=\"color:blue\">  For the default model parameters, how well do cumulative emissions explain the projected total warming for each scenario? </span>\n",
    "    \n",
    "- <span style=\"color:blue\">     What do you think is the reason for any differences in warming once the same cumulative emissions level has been reached?</span>\n",
    "\n",
    "Hint – consider the dashed curves, which show the warming due to CO2 only....\n"
   ]
  },
  {
   "cell_type": "code",
   "execution_count": null,
   "metadata": {},
   "outputs": [],
   "source": []
  },
  {
   "cell_type": "markdown",
   "metadata": {},
   "source": [
    "Now increase the equilibrium climate sensitivity (ECS) to 5K (the top of the likely range given by the IPCC 6th assessment report) in block B under Section 5. \n",
    "\n",
    " - <span style=\"color:blue\">How does this change the relationship between cumulative CO2 emissions and temperature, and why? What are the implications for predicting long-term climate change?</span>"
   ]
  },
  {
   "cell_type": "code",
   "execution_count": null,
   "metadata": {},
   "outputs": [],
   "source": []
  }
 ],
 "metadata": {
  "kernelspec": {
   "display_name": "Python 3 (ipykernel)",
   "language": "python",
   "name": "python3"
  },
  "language_info": {
   "codemirror_mode": {
    "name": "ipython",
    "version": 3
   },
   "file_extension": ".py",
   "mimetype": "text/x-python",
   "name": "python",
   "nbconvert_exporter": "python",
   "pygments_lexer": "ipython3",
   "version": "3.11.4"
  }
 },
 "nbformat": 4,
 "nbformat_minor": 4
}
